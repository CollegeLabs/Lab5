{
 "cells": [
  {
   "cell_type": "code",
   "execution_count": 1,
   "id": "188a999e",
   "metadata": {},
   "outputs": [],
   "source": [
    "from src.mazeData import *\n",
    "from src.maze2025GraphClass import mazeGraph\n",
    "from pyvis.network import Network\n",
    "from src.PS_agentPrograms import *\n",
    "from src.mazeProblemClass import MazeProblem\n",
    "from src.agents import *\n",
    "from src.naigationEnvironmentClass import MazeNavigationEnvironment\n",
    "from src.Lab5Env import *"
   ]
  },
  {
   "cell_type": "code",
   "execution_count": null,
   "id": "7b0f0453",
   "metadata": {},
   "outputs": [
    {
     "data": {
      "text/plain": [
       "[(2, 9),\n",
       " (2, 2),\n",
       " (2, 5),\n",
       " (2, 8),\n",
       " (3, 2),\n",
       " (5, 3),\n",
       " (5, 8),\n",
       " (6, 3),\n",
       " (6, 7),\n",
       " (7, 7),\n",
       " (9, 1)]"
      ]
     },
     "execution_count": 2,
     "metadata": {},
     "output_type": "execute_result"
    }
   ],
   "source": [
    "def makeMaze(n):\n",
    "  size = (n,n)\n",
    "  proba_0 =0.20 # resulting array will have 25%? of zeros\n",
    "  proba_Food =0.1 # resulting array will have 10%? of enemy\n",
    "  arrMaze=np.random.choice([0, 1, 2], size=size, p=[proba_0, 1-proba_0-proba_Food, proba_Food] )\n",
    "\n",
    "  return arrMaze\n",
    "\n",
    "initState = (random.randint(0,9),random.randint(0,9))\n",
    "goalState = (random.randint(0,9),random.randint(0,9))\n",
    "\n",
    "Pinky = (random.randint(0,9),random.randint(0,9))\n",
    "Inky = (random.randint(0,9),random.randint(0,9))\n",
    "Blinky = (random.randint(0,9),random.randint(0,9))\n",
    "Clyde = (random.randint(0,9),random.randint(0,9))\n",
    "Betrayus = (random.randint(0,9),random.randint(0,9))\n",
    "Ghosts = [Pinky, Inky, Blinky, Clyde, Betrayus] #incase we want to simplify things, we can pass this instead of the 5 ghosts\n",
    "\n",
    "goals = [goalState]\n",
    "\n",
    "#im thinking of doing something close to\n",
    "#for each node in maze of [x][y].node == 2:\n",
    "#  goals.append(node)\n",
    "#this way we can add the food nodes as they are added/all at once. not sure how else we would do this\n",
    "\n",
    "#did this ^^^ as the function findPelletGoals in mazeData\n",
    "#what if we made a function that adds all food pellets to the goal states, then have it calculate a path through them...\n",
    "#after it's done calculating that path, we then add goalState to the goals and have one final path there\n",
    "#no clue how to do all this though\n",
    "\n",
    "mazeSize=10\n",
    "mainMaze = makeMaze(mazeSize)\n",
    "MazeCheck(mainMaze,initState,goalState)\n",
    "GhostCheck(mainMaze,Pinky,Inky,Blinky,Clyde,Betrayus)\n",
    "mazeAvalActs=defineMazeAvailableActions(mainMaze)\n",
    "maze1TM=makeMazeTransformationModel(mazeAvalActs)\n",
    "mazeWorldGraph=mazeGraph(maze1TM, mazeStatesLocations(list(maze1TM.keys())))\n",
    "\n",
    "findPelletGoals(goals, mainMaze)"
   ]
  },
  {
   "cell_type": "code",
   "execution_count": 3,
   "id": "03254e9f",
   "metadata": {},
   "outputs": [
    {
     "data": {
      "text/plain": [
       "array([[1, 1, 1, 1, 0, 1, 0, 0, 1, 3],\n",
       "       [1, 1, 1, 1, 1, 1, 1, 1, 3, 1],\n",
       "       [1, 1, 2, 1, 1, 2, 1, 0, 2, 1],\n",
       "       [1, 1, 2, 1, 0, 1, 1, 3, 1, 1],\n",
       "       [1, 1, 1, 1, 1, 1, 1, 0, 1, 1],\n",
       "       [1, 3, 1, 2, 0, 1, 0, 1, 2, 1],\n",
       "       [1, 1, 1, 2, 1, 1, 1, 2, 0, 1],\n",
       "       [1, 1, 1, 0, 1, 1, 1, 2, 0, 3],\n",
       "       [1, 1, 0, 1, 0, 1, 1, 1, 1, 1],\n",
       "       [0, 2, 1, 0, 1, 1, 1, 1, 1, 1]])"
      ]
     },
     "execution_count": 3,
     "metadata": {},
     "output_type": "execute_result"
    }
   ],
   "source": [
    "mainMaze"
   ]
  },
  {
   "cell_type": "code",
   "execution_count": 4,
   "id": "5a2fd723",
   "metadata": {},
   "outputs": [
    {
     "data": {
      "text/plain": [
       "{(0, 0): ['right', 'down'],\n",
       " (0, 1): ['left', 'right', 'down'],\n",
       " (0, 2): ['left', 'right', 'down'],\n",
       " (0, 3): ['left', 'down'],\n",
       " (0, 4): [],\n",
       " (0, 5): ['down'],\n",
       " (0, 6): [],\n",
       " (0, 7): [],\n",
       " (0, 8): ['right', 'down'],\n",
       " (0, 9): ['left', 'down'],\n",
       " (1, 0): ['up', 'right', 'down'],\n",
       " (1, 1): ['left', 'up', 'right', 'down'],\n",
       " (1, 2): ['left', 'up', 'right', 'down'],\n",
       " (1, 3): ['left', 'up', 'right', 'down'],\n",
       " (1, 4): ['left', 'right', 'down'],\n",
       " (1, 5): ['left', 'up', 'right', 'down'],\n",
       " (1, 6): ['left', 'right', 'down'],\n",
       " (1, 7): ['left', 'right'],\n",
       " (1, 8): ['left', 'up', 'right', 'down'],\n",
       " (1, 9): ['left', 'up', 'down'],\n",
       " (2, 0): ['up', 'right', 'down'],\n",
       " (2, 1): ['left', 'up', 'right', 'down'],\n",
       " (2, 2): ['left', 'up', 'right', 'down'],\n",
       " (2, 3): ['left', 'up', 'right', 'down'],\n",
       " (2, 4): ['left', 'up', 'right'],\n",
       " (2, 5): ['left', 'up', 'right', 'down'],\n",
       " (2, 6): ['left', 'up', 'down'],\n",
       " (2, 7): [],\n",
       " (2, 8): ['up', 'right', 'down'],\n",
       " (2, 9): ['left', 'up', 'down'],\n",
       " (3, 0): ['up', 'right', 'down'],\n",
       " (3, 1): ['left', 'up', 'right', 'down'],\n",
       " (3, 2): ['left', 'up', 'right', 'down'],\n",
       " (3, 3): ['left', 'up', 'down'],\n",
       " (3, 4): [],\n",
       " (3, 5): ['up', 'right', 'down'],\n",
       " (3, 6): ['left', 'up', 'right', 'down'],\n",
       " (3, 7): ['left', 'right'],\n",
       " (3, 8): ['left', 'up', 'right', 'down'],\n",
       " (3, 9): ['left', 'up', 'down'],\n",
       " (4, 0): ['up', 'right', 'down'],\n",
       " (4, 1): ['left', 'up', 'right', 'down'],\n",
       " (4, 2): ['left', 'up', 'right', 'down'],\n",
       " (4, 3): ['left', 'up', 'right', 'down'],\n",
       " (4, 4): ['left', 'right'],\n",
       " (4, 5): ['left', 'up', 'right', 'down'],\n",
       " (4, 6): ['left', 'up'],\n",
       " (4, 7): [],\n",
       " (4, 8): ['up', 'right', 'down'],\n",
       " (4, 9): ['left', 'up', 'down'],\n",
       " (5, 0): ['up', 'right', 'down'],\n",
       " (5, 1): ['left', 'up', 'right', 'down'],\n",
       " (5, 2): ['left', 'up', 'right', 'down'],\n",
       " (5, 3): ['left', 'up', 'down'],\n",
       " (5, 4): [],\n",
       " (5, 5): ['up', 'down'],\n",
       " (5, 6): [],\n",
       " (5, 7): ['right', 'down'],\n",
       " (5, 8): ['left', 'up', 'right'],\n",
       " (5, 9): ['left', 'up', 'down'],\n",
       " (6, 0): ['up', 'right', 'down'],\n",
       " (6, 1): ['left', 'up', 'right', 'down'],\n",
       " (6, 2): ['left', 'up', 'right', 'down'],\n",
       " (6, 3): ['left', 'up', 'right'],\n",
       " (6, 4): ['left', 'right', 'down'],\n",
       " (6, 5): ['left', 'up', 'right', 'down'],\n",
       " (6, 6): ['left', 'right', 'down'],\n",
       " (6, 7): ['left', 'up', 'down'],\n",
       " (6, 8): [],\n",
       " (6, 9): ['up', 'down'],\n",
       " (7, 0): ['up', 'right', 'down'],\n",
       " (7, 1): ['left', 'up', 'right', 'down'],\n",
       " (7, 2): ['left', 'up'],\n",
       " (7, 3): [],\n",
       " (7, 4): ['up', 'right'],\n",
       " (7, 5): ['left', 'up', 'right', 'down'],\n",
       " (7, 6): ['left', 'up', 'right', 'down'],\n",
       " (7, 7): ['left', 'up', 'down'],\n",
       " (7, 8): [],\n",
       " (7, 9): ['up', 'down'],\n",
       " (8, 0): ['up', 'right'],\n",
       " (8, 1): ['left', 'up', 'down'],\n",
       " (8, 2): [],\n",
       " (8, 3): [],\n",
       " (8, 4): [],\n",
       " (8, 5): ['up', 'right', 'down'],\n",
       " (8, 6): ['left', 'up', 'right', 'down'],\n",
       " (8, 7): ['left', 'up', 'right', 'down'],\n",
       " (8, 8): ['left', 'right', 'down'],\n",
       " (8, 9): ['left', 'up', 'down'],\n",
       " (9, 0): [],\n",
       " (9, 1): ['up', 'right'],\n",
       " (9, 2): ['left'],\n",
       " (9, 3): [],\n",
       " (9, 4): ['right'],\n",
       " (9, 5): ['left', 'up', 'right'],\n",
       " (9, 6): ['left', 'up', 'right'],\n",
       " (9, 7): ['left', 'up', 'right'],\n",
       " (9, 8): ['left', 'up', 'right'],\n",
       " (9, 9): ['left', 'up']}"
      ]
     },
     "execution_count": 4,
     "metadata": {},
     "output_type": "execute_result"
    }
   ],
   "source": [
    "mazeAvalActs"
   ]
  },
  {
   "cell_type": "code",
   "execution_count": 5,
   "id": "8bce1d4b",
   "metadata": {},
   "outputs": [],
   "source": [
    "net_maze = Network(heading=\"Lab 4 Maze\",\n",
    "                bgcolor =\"#242020\",\n",
    "                font_color = \"white\",\n",
    "                height = \"750px\",\n",
    "                width = \"100%\" \n",
    ")\n",
    "nodeColors={\n",
    "    \"wall\":\"Blue\",\n",
    "    \"path\": \"White\",\n",
    "    \"Goal\": \"Green\",\n",
    "    \"Start\": \"Red\",\n",
    "    \"Enemy\": \"Orange\",\n",
    "    \"Food\": \"Yellow\"\n",
    "}\n",
    "nodeColorsList=[]\n",
    "\n",
    "for node in mazeWorldGraph.origin.keys():\n",
    "    if mainMaze[node[0],node[1]]==1:\n",
    "        nodeColorsList.append(nodeColors[\"path\"])\n",
    "    elif mainMaze[node[0],node[1]]==0:\n",
    "        nodeColorsList.append(nodeColors[\"wall\"])\n",
    "    elif mainMaze[node[0],node[1]]==3:\n",
    "        nodeColorsList.append(nodeColors[\"Enemy\"])\n",
    "    else:\n",
    "        nodeColorsList.append(nodeColors[\"Food\"])\n",
    "\n",
    "nodes=[\"-\".join(str(item) for item in el) for el in mazeWorldGraph.origin.keys()]\n",
    "\n",
    "x_coords = []\n",
    "y_coords = []\n",
    "\n",
    "for node in mazeWorldGraph.origin.keys():\n",
    "    x,y=mazeWorldGraph.getLocation(node)\n",
    "    x_coords.append(x)\n",
    "    y_coords.append(y)\n",
    "\n",
    "sizes=[10]*len(nodes)\n",
    "net_maze.add_nodes(nodes, color=nodeColorsList, x=x_coords, y=y_coords, size=sizes, title=nodes)\n",
    "\n",
    "for node in net_maze.nodes:\n",
    "    node['label']=''\n",
    "\n",
    "edge_weights = {(intTupleTostr(k), intTupleTostr(v2)) : k2 for k, v in mazeWorldGraph.origin.items() for k2, v2 in v.items()}\n",
    "\n",
    "edges=[]\n",
    "\n",
    "for node_source in mazeWorldGraph.nodes():\n",
    "    for node_target, action in mazeWorldGraph.get(node_source).items():\n",
    "        #node_target or node_source is a tuple -> convert to str\n",
    "        if (intTupleTostr(node_source),intTupleTostr(node_target)) not in edges and (intTupleTostr(node_target), intTupleTostr(node_source)):\n",
    "            net_maze.add_edge(intTupleTostr(node_source),intTupleTostr(node_target), label=edge_weights[(intTupleTostr(node_source),intTupleTostr(node_target))])\n",
    "            edges.append((intTupleTostr(node_source),intTupleTostr(node_target)))\n",
    "\n",
    "for node in net_maze.nodes:\n",
    "    if node['id']==intTupleTostr(goalState):\n",
    "        node['color']=nodeColors['Goal']\n",
    "    elif node['id']==intTupleTostr(initState):\n",
    "        node['color']=nodeColors['Start']"
   ]
  },
  {
   "cell_type": "code",
   "execution_count": 6,
   "id": "f474d4de",
   "metadata": {},
   "outputs": [],
   "source": [
    "net_maze.toggle_physics(False)"
   ]
  },
  {
   "cell_type": "code",
   "execution_count": 7,
   "id": "e16c6ebf",
   "metadata": {},
   "outputs": [],
   "source": [
    "mp1=MazeProblem(initState, goalState, mazeWorldGraph)"
   ]
  },
  {
   "cell_type": "code",
   "execution_count": 8,
   "id": "c41c6118",
   "metadata": {},
   "outputs": [],
   "source": [
    "AstarAgent=ProblemSolvingMazeAgentAstar(initState, mazeWorldGraph, goalState)\n",
    "IDA_starAgent=IDA_StarSearchAgent(initState, mazeWorldGraph, goalState)"
   ]
  },
  {
   "cell_type": "code",
   "execution_count": 9,
   "id": "c458d3a0",
   "metadata": {},
   "outputs": [],
   "source": [
    "maze_Env1=Lab5NavEnvironment(mazeWorldGraph, mainMaze)\n",
    "maze_Env2=Lab5NavEnvironment(mazeWorldGraph, mainMaze)\n",
    "\n",
    "#maze_Env1=MazeNavigationEnvironment(mazeWorldGraph)\n",
    "#maze_Env2=MazeNavigationEnvironment(mazeWorldGraph)"
   ]
  },
  {
   "cell_type": "code",
   "execution_count": 10,
   "id": "8013fa2e",
   "metadata": {},
   "outputs": [
    {
     "name": "stdout",
     "output_type": "stream",
     "text": [
      "Hi, I have the only goal: (2, 9)\n",
      "Hi\n",
      "[(5.0, <Node (2, 4)>)]\n",
      "The node (2, 4) is extracted from frontier:\n",
      "The child node <Node (2, 3)>.\n",
      "The child node <Node (1, 4)>.\n",
      "The child node <Node (2, 5)>.\n",
      "[(4.0, <Node (2, 5)>), (7.099, <Node (1, 4)>), (6.0, <Node (2, 3)>)]\n",
      "The node (2, 5) is extracted from frontier:\n",
      "The child node <Node (1, 5)>.\n",
      "The child node <Node (2, 6)>.\n",
      "The child node <Node (3, 5)>.\n",
      "[(3.0, <Node (2, 6)>), (5.123, <Node (3, 5)>), (6.123, <Node (1, 5)>), (7.099, <Node (1, 4)>), (6.0, <Node (2, 3)>)]\n",
      "The node (2, 6) is extracted from frontier:\n",
      "The child node <Node (1, 6)>.\n",
      "The child node <Node (3, 6)>.\n",
      "[(4.162, <Node (3, 6)>), (5.162, <Node (1, 6)>), (5.123, <Node (3, 5)>), (7.099, <Node (1, 4)>), (6.0, <Node (2, 3)>), (6.123, <Node (1, 5)>)]\n",
      "The node (3, 6) is extracted from frontier:\n",
      "The child node <Node (3, 7)>.\n",
      "The child node <Node (4, 6)>.\n",
      "[(3.236, <Node (3, 7)>), (5.162, <Node (1, 6)>), (5.123, <Node (3, 5)>), (7.099, <Node (1, 4)>), (6.0, <Node (2, 3)>), (6.123, <Node (1, 5)>), (5.606, <Node (4, 6)>)]\n",
      "The node (3, 7) is extracted from frontier:\n",
      "The child node <Node (3, 8)>.\n",
      "[(2.4139999999999997, <Node (3, 8)>), (5.162, <Node (1, 6)>), (5.123, <Node (3, 5)>), (7.099, <Node (1, 4)>), (6.0, <Node (2, 3)>), (6.123, <Node (1, 5)>), (5.606, <Node (4, 6)>)]\n",
      "The node (3, 8) is extracted from frontier:\n",
      "The child node <Node (2, 8)>.\n",
      "The child node <Node (3, 9)>.\n",
      "The child node <Node (4, 8)>.\n",
      "[(2.0, <Node (3, 9)>), (4.0, <Node (2, 8)>), (5.123, <Node (3, 5)>), (4.236000000000001, <Node (4, 8)>), (6.0, <Node (2, 3)>), (6.123, <Node (1, 5)>), (5.606, <Node (4, 6)>), (7.099, <Node (1, 4)>), (5.162, <Node (1, 6)>)]\n",
      "The node (3, 9) is extracted from frontier:\n",
      "The child node <Node (2, 9)>.\n",
      "The child node <Node (4, 9)>.\n",
      "[(3.0, <Node (2, 9)>), (4.0, <Node (2, 8)>), (5.123, <Node (3, 5)>), (4.236000000000001, <Node (4, 8)>), (4.0, <Node (4, 9)>), (6.123, <Node (1, 5)>), (5.606, <Node (4, 6)>), (7.099, <Node (1, 4)>), (5.162, <Node (1, 6)>), (6.0, <Node (2, 3)>)]\n",
      "The node (2, 9) is extracted from frontier:\n",
      "We have found our goal: (2, 9)\n",
      "Number of nodes expanded for this path = \n",
      "Solution (a sequence of actions) from the initial state to a goal: ['right', 'right', 'down', 'right', 'right', 'right', 'up']\n",
      "The Agent in (2, 4) with performance 84\n"
     ]
    }
   ],
   "source": [
    "maze_Env1.add_thing(AstarAgent)"
   ]
  },
  {
   "cell_type": "code",
   "execution_count": 11,
   "id": "2f4d2710",
   "metadata": {},
   "outputs": [
    {
     "name": "stdout",
     "output_type": "stream",
     "text": [
      "step 1:\n",
      "Agent decided to do right.\n",
      "Agent in (2, 5) with performance = 84\n",
      "Agent in (2, 5) is under attack!\n",
      "step 2:\n",
      "Agent decided to do right.\n",
      "Agent in (2, 6) with performance = 75.60000000000001\n",
      "step 3:\n",
      "Agent decided to do down.\n",
      "Agent in (3, 6) with performance = 74.60000000000001\n",
      "step 4:\n",
      "Agent decided to do right.\n",
      "Agent in (3, 7) with performance = 73.60000000000001\n",
      "step 5:\n",
      "Agent decided to do right.\n",
      "Agent in (3, 8) with performance = 73.60000000000001\n",
      "step 6:\n",
      "Agent decided to do right.\n",
      "Agent in (3, 9) with performance = 72.60000000000001\n",
      "step 7:\n",
      "Agent decided to do up.\n",
      "Agent in (2, 9) with performance = 71.60000000000001\n",
      "Agent reached all goals\n"
     ]
    }
   ],
   "source": [
    "maze_Env1.run()"
   ]
  },
  {
   "cell_type": "code",
   "execution_count": 12,
   "id": "b165c0f9",
   "metadata": {},
   "outputs": [
    {
     "name": "stdout",
     "output_type": "stream",
     "text": [
      "Hi, I have the only goal: (2, 9)\n",
      "Number of nodes expanded for this path = \n",
      "Solution (a sequence of actions) from the initial state to a goal: ['right', 'right', 'down', 'right', 'right', 'up', 'right']\n",
      "The Agent in (2, 4) with performance 84\n"
     ]
    }
   ],
   "source": [
    "maze_Env2.add_thing(IDA_starAgent)"
   ]
  },
  {
   "cell_type": "code",
   "execution_count": 13,
   "id": "e4e45d50",
   "metadata": {},
   "outputs": [
    {
     "name": "stdout",
     "output_type": "stream",
     "text": [
      "step 1:\n",
      "Agent decided to do right.\n",
      "Agent in (2, 5) with performance = 84\n",
      "Agent in (2, 5) is under attack!\n",
      "step 2:\n",
      "Agent decided to do right.\n",
      "Agent in (2, 6) with performance = 75.60000000000001\n",
      "step 3:\n",
      "Agent decided to do down.\n",
      "Agent in (3, 6) with performance = 74.60000000000001\n",
      "step 4:\n",
      "Agent decided to do right.\n",
      "Agent in (3, 7) with performance = 73.60000000000001\n",
      "step 5:\n",
      "Agent decided to do right.\n",
      "Agent in (3, 8) with performance = 73.60000000000001\n",
      "step 6:\n",
      "Agent decided to do up.\n",
      "Agent in (2, 8) with performance = 72.60000000000001\n",
      "Agent in (2, 8) is under attack!\n",
      "step 7:\n",
      "Agent decided to do right.\n",
      "Agent in (2, 9) with performance = 65.34\n",
      "Agent reached all goals\n"
     ]
    }
   ],
   "source": [
    "maze_Env2.run()"
   ]
  },
  {
   "cell_type": "code",
   "execution_count": 14,
   "id": "edf2dbe4",
   "metadata": {},
   "outputs": [
    {
     "name": "stdout",
     "output_type": "stream",
     "text": [
      "graphMaze1.html\n"
     ]
    }
   ],
   "source": [
    "net_maze.show(\"graphMaze1.html\", notebook=False)"
   ]
  }
 ],
 "metadata": {
  "kernelspec": {
   "display_name": ".venv",
   "language": "python",
   "name": "python3"
  },
  "language_info": {
   "codemirror_mode": {
    "name": "ipython",
    "version": 3
   },
   "file_extension": ".py",
   "mimetype": "text/x-python",
   "name": "python",
   "nbconvert_exporter": "python",
   "pygments_lexer": "ipython3",
   "version": "3.13.9"
  }
 },
 "nbformat": 4,
 "nbformat_minor": 5
}
