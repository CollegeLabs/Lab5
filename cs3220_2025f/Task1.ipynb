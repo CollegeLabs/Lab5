{
 "cells": [
  {
   "cell_type": "code",
   "execution_count": null,
   "id": "188a999e",
   "metadata": {},
   "outputs": [],
   "source": [
    "from src.mazeData import *\n",
    "from src.maze2025GraphClass import mazeGraph\n",
    "from pyvis.network import Network\n",
    "from src.PS_agentPrograms import *\n",
    "from src.mazeProblemClass import MazeProblem\n",
    "from src.agents import *\n",
    "from src.naigationEnvironmentClass import MazeNavigationEnvironment\n",
    "from src.Lab5Env import *"
   ]
  },
  {
   "cell_type": "code",
   "execution_count": null,
   "id": "7b0f0453",
   "metadata": {},
   "outputs": [],
   "source": [
    "def makeMaze(n):\n",
    "  size = (n,n)\n",
    "  proba_0 =0.20 # resulting array will have 25%? of zeros\n",
    "  proba_Food =0.1 # resulting array will have 10%? of enemy\n",
    "  arrMaze=np.random.choice([0, 1, 2], size=size, p=[proba_0, 1-proba_0-proba_Food, proba_Food] )\n",
    "\n",
    "  return arrMaze\n",
    "\n",
    "initState = (random.randint(0,9),random.randint(0,9))\n",
    "goalState = (random.randint(0,9),random.randint(0,9))\n",
    "\n",
    "Pinky = (random.randint(0,9),random.randint(0,9))\n",
    "Inky = (random.randint(0,9),random.randint(0,9))\n",
    "Blinky = (random.randint(0,9),random.randint(0,9))\n",
    "Clyde = (random.randint(0,9),random.randint(0,9))\n",
    "Betrayus = (random.randint(0,9),random.randint(0,9))\n",
    "\n",
    "goals = [goalState]\n",
    "\n",
    "#im thinking of doing something close to\n",
    "#for each node in maze of [x][y].node == 2:\n",
    "#  goals.append(node)\n",
    "#this way we can add the food nodes as they are added/all at once. not sure how else we would do this\n",
    "\n",
    "mazeSize=10\n",
    "mainMaze = makeMaze(mazeSize)\n",
    "MazeCheck(mainMaze,initState,goalState)\n",
    "GhostCheck(mainMaze,Pinky,Inky,Blinky,Clyde,Betrayus)\n",
    "mazeAvalActs=defineMazeAvailableActions(mainMaze)\n",
    "maze1TM=makeMazeTransformationModel(mazeAvalActs)\n",
    "mazeWorldGraph=mazeGraph(maze1TM, mazeStatesLocations(list(maze1TM.keys())))\n",
    "\n",
    "maze1TM"
   ]
  },
  {
   "cell_type": "code",
   "execution_count": null,
   "id": "03254e9f",
   "metadata": {},
   "outputs": [],
   "source": [
    "mainMaze"
   ]
  },
  {
   "cell_type": "code",
   "execution_count": null,
   "id": "0c7886ef",
   "metadata": {},
   "outputs": [],
   "source": [
    "maze1TM"
   ]
  },
  {
   "cell_type": "code",
   "execution_count": null,
   "id": "5a2fd723",
   "metadata": {},
   "outputs": [],
   "source": [
    "mazeAvalActs"
   ]
  },
  {
   "cell_type": "code",
   "execution_count": null,
   "id": "8bce1d4b",
   "metadata": {},
   "outputs": [],
   "source": [
    "net_maze = Network(heading=\"Lab 4 Maze\",\n",
    "                bgcolor =\"#242020\",\n",
    "                font_color = \"white\",\n",
    "                height = \"750px\",\n",
    "                width = \"100%\" \n",
    ")\n",
    "nodeColors={\n",
    "    \"wall\":\"Blue\",\n",
    "    \"path\": \"White\",\n",
    "    \"Goal\": \"Green\",\n",
    "    \"Start\": \"Red\",\n",
    "    \"Enemy\": \"Orange\",\n",
    "    \"Food\": \"Yellow\"\n",
    "}\n",
    "nodeColorsList=[]\n",
    "\n",
    "for node in mazeWorldGraph.origin.keys():\n",
    "    if mainMaze[node[0],node[1]]==1:\n",
    "        nodeColorsList.append(nodeColors[\"path\"])\n",
    "    elif mainMaze[node[0],node[1]]==0:\n",
    "        nodeColorsList.append(nodeColors[\"wall\"])\n",
    "    elif mainMaze[node[0],node[1]]==3:\n",
    "        nodeColorsList.append(nodeColors[\"Enemy\"])\n",
    "    else:\n",
    "        nodeColorsList.append(nodeColors[\"Food\"])\n",
    "\n",
    "nodes=[\"-\".join(str(item) for item in el) for el in mazeWorldGraph.origin.keys()]\n",
    "\n",
    "x_coords = []\n",
    "y_coords = []\n",
    "\n",
    "for node in mazeWorldGraph.origin.keys():\n",
    "    x,y=mazeWorldGraph.getLocation(node)\n",
    "    x_coords.append(x)\n",
    "    y_coords.append(y)\n",
    "\n",
    "sizes=[10]*len(nodes)\n",
    "net_maze.add_nodes(nodes, color=nodeColorsList, x=x_coords, y=y_coords, size=sizes, title=nodes)\n",
    "\n",
    "for node in net_maze.nodes:\n",
    "    node['label']=''\n",
    "\n",
    "edge_weights = {(intTupleTostr(k), intTupleTostr(v2)) : k2 for k, v in mazeWorldGraph.origin.items() for k2, v2 in v.items()}\n",
    "\n",
    "edges=[]\n",
    "\n",
    "for node_source in mazeWorldGraph.nodes():\n",
    "    for node_target, action in mazeWorldGraph.get(node_source).items():\n",
    "        #node_target or node_source is a tuple -> convert to str\n",
    "        if (intTupleTostr(node_source),intTupleTostr(node_target)) not in edges and (intTupleTostr(node_target), intTupleTostr(node_source)):\n",
    "            net_maze.add_edge(intTupleTostr(node_source),intTupleTostr(node_target), label=edge_weights[(intTupleTostr(node_source),intTupleTostr(node_target))])\n",
    "            edges.append((intTupleTostr(node_source),intTupleTostr(node_target)))\n",
    "\n",
    "for node in net_maze.nodes:\n",
    "    if node['id']==intTupleTostr(goalState):\n",
    "        node['color']=nodeColors['Goal']\n",
    "    elif node['id']==intTupleTostr(initState):\n",
    "        node['color']=nodeColors['Start']"
   ]
  },
  {
   "cell_type": "code",
   "execution_count": null,
   "id": "f474d4de",
   "metadata": {},
   "outputs": [],
   "source": [
    "net_maze.toggle_physics(False)"
   ]
  },
  {
   "cell_type": "code",
   "execution_count": null,
   "id": "e16c6ebf",
   "metadata": {},
   "outputs": [],
   "source": [
    "mp1=MazeProblem(initState, goalState, mazeWorldGraph)"
   ]
  },
  {
   "cell_type": "code",
   "execution_count": null,
   "id": "c41c6118",
   "metadata": {},
   "outputs": [],
   "source": [
    "AstarAgent=ProblemSolvingMazeAgentAstar(initState, mazeWorldGraph, goalState)\n",
    "IDA_starAgent=IDA_StarSearchAgent(initState, mazeWorldGraph, goalState)"
   ]
  },
  {
   "cell_type": "code",
   "execution_count": null,
   "id": "c458d3a0",
   "metadata": {},
   "outputs": [],
   "source": [
    "maze_Env1=Lab5NavEnvironment(mazeWorldGraph, mainMaze)\n",
    "maze_Env2=Lab5NavEnvironment(mazeWorldGraph, mainMaze)\n",
    "\n",
    "#maze_Env1=MazeNavigationEnvironment(mazeWorldGraph)\n",
    "#maze_Env2=MazeNavigationEnvironment(mazeWorldGraph)"
   ]
  },
  {
   "cell_type": "code",
   "execution_count": null,
   "id": "8013fa2e",
   "metadata": {},
   "outputs": [],
   "source": [
    "maze_Env1.add_thing(AstarAgent)"
   ]
  },
  {
   "cell_type": "code",
   "execution_count": null,
   "id": "2f4d2710",
   "metadata": {},
   "outputs": [],
   "source": [
    "maze_Env1.run()"
   ]
  },
  {
   "cell_type": "code",
   "execution_count": null,
   "id": "b165c0f9",
   "metadata": {},
   "outputs": [],
   "source": [
    "maze_Env2.add_thing(IDA_starAgent)"
   ]
  },
  {
   "cell_type": "code",
   "execution_count": null,
   "id": "e4e45d50",
   "metadata": {},
   "outputs": [],
   "source": [
    "maze_Env2.run()"
   ]
  },
  {
   "cell_type": "code",
   "execution_count": null,
   "id": "edf2dbe4",
   "metadata": {},
   "outputs": [],
   "source": [
    "net_maze.show(\"graphMaze1.html\", notebook=False)"
   ]
  }
 ],
 "metadata": {
  "kernelspec": {
   "display_name": ".venv (3.13.9)",
   "language": "python",
   "name": "python3"
  },
  "language_info": {
   "codemirror_mode": {
    "name": "ipython",
    "version": 3
   },
   "file_extension": ".py",
   "mimetype": "text/x-python",
   "name": "python",
   "nbconvert_exporter": "python",
   "pygments_lexer": "ipython3",
   "version": "3.13.9"
  }
 },
 "nbformat": 4,
 "nbformat_minor": 5
}
